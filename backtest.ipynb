{
 "cells": [
  {
   "cell_type": "code",
   "execution_count": 13,
   "id": "99efceae",
   "metadata": {},
   "outputs": [],
   "source": [
    "import pandas as pd\n",
    "import numpy as np\n",
    "import glob\n",
    "import matplotlib.pyplot as plt\n",
    "import os"
   ]
  },
  {
   "cell_type": "code",
   "execution_count": 14,
   "id": "b66ebb7c",
   "metadata": {},
   "outputs": [
    {
     "name": "stdout",
     "output_type": "stream",
     "text": [
      "Found 4 CSV files.\n",
      "\n",
      "XPARTY: 21 rows\n",
      "PVE: 215 rows\n",
      "TWSC: 53 rows\n",
      "DOGE: 12 rows\n"
     ]
    }
   ],
   "source": [
    "# Path to your CSVs\n",
    "path = \"/Users/harshit/Downloads/MVE/dataframes/*.csv\"\n",
    "csv_files = glob.glob(path)\n",
    "\n",
    "print(f\"Found {len(csv_files)} CSV files.\\n\")\n",
    "\n",
    "# Print filename and number of rows\n",
    "for file in csv_files:\n",
    "    try:\n",
    "        df = pd.read_csv(file)\n",
    "        token = os.path.basename(file).replace(\".csv\", \"\")\n",
    "        print(f\"{token}: {df.shape[0]} rows\")\n",
    "    except Exception as e:\n",
    "        print(f\"Failed to read {file}: {e}\")"
   ]
  },
  {
   "cell_type": "code",
   "execution_count": 15,
   "id": "169e179a",
   "metadata": {},
   "outputs": [
    {
     "name": "stdout",
     "output_type": "stream",
     "text": [
      "Loaded tokens: ['XPARTY', 'PVE', 'TWSC', 'DOGE']\n"
     ]
    }
   ],
   "source": [
    "import pandas as pd\n",
    "import glob\n",
    "import os\n",
    "\n",
    "path = \"/Users/harshit/Downloads/MVE/dataframes/*.csv\"\n",
    "csv_files = glob.glob(path)\n",
    "\n",
    "dfs = {}\n",
    "for file in csv_files:\n",
    "    token = os.path.basename(file).replace(\".csv\", \"\")\n",
    "    df = pd.read_csv(file)\n",
    "    df['timestamp'] = pd.to_datetime(df['timestamp'])\n",
    "    df.set_index('timestamp', inplace=True)\n",
    "    dfs[token] = df\n",
    "\n",
    "print(f\"Loaded tokens: {list(dfs.keys())}\")\n"
   ]
  },
  {
   "cell_type": "markdown",
   "id": "abb498f2",
   "metadata": {},
   "source": [
    "### If Invested 1000usd 20-hrs ago"
   ]
  },
  {
   "cell_type": "code",
   "execution_count": 16,
   "id": "920eaea6",
   "metadata": {},
   "outputs": [
    {
     "name": "stdout",
     "output_type": "stream",
     "text": [
      "Latest time in data: 2025-06-06 00:00:00+00:00\n",
      "Start time (20 hrs ago): 2025-06-05 04:00:00+00:00\n",
      "XPARTY | Buy Price: 0.000331 | End Price: 0.000331 | Current Value: $250.00\n",
      "PVE | Buy Price: 0.000004 | End Price: 0.000067 | Current Value: $4041.90\n",
      "TWSC | Buy Price: 0.000137 | End Price: 0.000243 | Current Value: $444.32\n",
      "DOGE | Buy Price: 0.000152 | End Price: 0.000152 | Current Value: $250.00\n",
      "\n",
      "Total portfolio value now: $4986.21\n",
      "Total return: 398.62%\n"
     ]
    }
   ],
   "source": [
    "import numpy as np\n",
    "\n",
    "# Investment amount\n",
    "total_investment = 1000\n",
    "tokens = list(dfs.keys())\n",
    "num_tokens = len(tokens)\n",
    "investment_per_token = total_investment / num_tokens\n",
    "\n",
    "# Find the start time (20 hours ago from the last timestamp in data)\n",
    "latest_time = min(df.index.max() for df in dfs.values())  # safest: minimum latest time among tokens\n",
    "start_time = latest_time - pd.Timedelta(hours=20)\n",
    "\n",
    "print(f\"Latest time in data: {latest_time}\")\n",
    "print(f\"Start time (20 hrs ago): {start_time}\")\n",
    "\n",
    "portfolio_value = 0\n",
    "\n",
    "for token, df in dfs.items():\n",
    "    # Find closest timestamps\n",
    "    start_price_idx = df.index.get_indexer([start_time], method='nearest')[0]\n",
    "    start_price = df.iloc[start_price_idx]['close']\n",
    "    \n",
    "    end_price = df['close'].iloc[-1]\n",
    "    \n",
    "    # Calculate number of tokens bought at start_price\n",
    "    tokens_bought = investment_per_token / start_price\n",
    "    \n",
    "    # Current value of tokens\n",
    "    current_value = tokens_bought * end_price\n",
    "    \n",
    "    print(f\"{token} | Buy Price: {start_price:.6f} | End Price: {end_price:.6f} | Current Value: ${current_value:.2f}\")\n",
    "    \n",
    "    portfolio_value += current_value\n",
    "\n",
    "print(f\"\\nTotal portfolio value now: ${portfolio_value:.2f}\")\n",
    "print(f\"Total return: {(portfolio_value / total_investment - 1) * 100:.2f}%\")\n"
   ]
  },
  {
   "cell_type": "markdown",
   "id": "e5f27908",
   "metadata": {},
   "source": [
    "### If invested 1000usd 5-hrs ago"
   ]
  },
  {
   "cell_type": "code",
   "execution_count": 17,
   "id": "a255e7f7",
   "metadata": {},
   "outputs": [
    {
     "name": "stdout",
     "output_type": "stream",
     "text": [
      "Latest time in data: 2025-06-06 09:30:00+00:00\n",
      "Start time (5 hrs ago): 2025-06-06 04:30:00+00:00\n",
      "XPARTY | Buy Price: 0.000501 | End Price: 0.000331 | Current Value: $165.11\n",
      "PVE | Buy Price: 0.001379 | End Price: 0.000067 | Current Value: $12.14\n",
      "TWSC | Buy Price: 0.000778 | End Price: 0.000243 | Current Value: $78.14\n",
      "DOGE | Buy Price: 0.000343 | End Price: 0.000152 | Current Value: $111.11\n",
      "\n",
      "Total portfolio value now: $366.49\n",
      "Total return: -63.35%\n"
     ]
    }
   ],
   "source": [
    "from datetime import timedelta\n",
    "\n",
    "# Latest timestamp in the data (assuming all dfs have same latest index)\n",
    "latest_time = max(df.index.max() for df in dfs.values())\n",
    "\n",
    "# Buy time = 5 hours before latest timestamp\n",
    "buy_time = latest_time - timedelta(hours=5)\n",
    "\n",
    "total_investment = 1000\n",
    "tokens = list(dfs.keys())\n",
    "num_tokens = len(tokens)\n",
    "investment_per_token = total_investment / num_tokens\n",
    "\n",
    "portfolio_value = 0\n",
    "print(f\"Latest time in data: {latest_time}\")\n",
    "print(f\"Start time (5 hrs ago): {buy_time}\")\n",
    "\n",
    "for token in tokens:\n",
    "    df = dfs[token]\n",
    "\n",
    "    pos = df.index.get_indexer([buy_time], method='nearest')[0]\n",
    "    buy_price = df.iloc[pos]['close']\n",
    "    end_price = df['close'].iloc[-1]\n",
    "\n",
    "    quantity = investment_per_token / buy_price\n",
    "    current_value = quantity * end_price\n",
    "\n",
    "    print(f\"{token} | Buy Price: {buy_price:.6f} | End Price: {end_price:.6f} | Current Value: ${current_value:.2f}\")\n",
    "\n",
    "    portfolio_value += current_value\n",
    "\n",
    "total_return = (portfolio_value / total_investment - 1) * 100\n",
    "print(f\"\\nTotal portfolio value now: ${portfolio_value:.2f}\")\n",
    "print(f\"Total return: {total_return:.2f}%\")\n"
   ]
  },
  {
   "cell_type": "code",
   "execution_count": 21,
   "id": "369f73c2",
   "metadata": {},
   "outputs": [
    {
     "name": "stdout",
     "output_type": "stream",
     "text": [
      "Latest time in data: 2025-06-06 09:30:00+00:00\n",
      "Start time (12 hrs ago): 2025-06-05 21:30:00+00:00\n",
      "XPARTY | Buy Price: 0.000331 | End Price: 0.000331 | Current Value: $250.00\n",
      "PVE | Buy Price: 0.003607 | End Price: 0.000067 | Current Value: $4.64\n",
      "TWSC | Buy Price: 0.000137 | End Price: 0.000243 | Current Value: $444.32\n",
      "DOGE | Buy Price: 0.000256 | End Price: 0.000152 | Current Value: $148.72\n",
      "\n",
      "Total portfolio value now: $847.68\n",
      "Total return: -15.23%\n"
     ]
    }
   ],
   "source": [
    "from datetime import timedelta\n",
    "\n",
    "# Latest timestamp in the data (assuming all dfs have same latest index)\n",
    "latest_time = max(df.index.max() for df in dfs.values())\n",
    "\n",
    "# Buy time = 5 hours before latest timestamp\n",
    "buy_time = latest_time - timedelta(hours=12)\n",
    "\n",
    "total_investment = 1000\n",
    "tokens = list(dfs.keys())\n",
    "num_tokens = len(tokens)\n",
    "investment_per_token = total_investment / num_tokens\n",
    "\n",
    "portfolio_value = 0\n",
    "print(f\"Latest time in data: {latest_time}\")\n",
    "print(f\"Start time (12 hrs ago): {buy_time}\")\n",
    "\n",
    "for token in tokens:\n",
    "    df = dfs[token]\n",
    "\n",
    "    pos = df.index.get_indexer([buy_time], method='nearest')[0]\n",
    "    buy_price = df.iloc[pos]['close']\n",
    "    end_price = df['close'].iloc[-1]\n",
    "\n",
    "    quantity = investment_per_token / buy_price\n",
    "    current_value = quantity * end_price\n",
    "\n",
    "    print(f\"{token} | Buy Price: {buy_price:.6f} | End Price: {end_price:.6f} | Current Value: ${current_value:.2f}\")\n",
    "\n",
    "    portfolio_value += current_value\n",
    "\n",
    "total_return = (portfolio_value / total_investment - 1) * 100\n",
    "print(f\"\\nTotal portfolio value now: ${portfolio_value:.2f}\")\n",
    "print(f\"Total return: {total_return:.2f}%\")\n"
   ]
  },
  {
   "cell_type": "markdown",
   "id": "f5aa23ec",
   "metadata": {},
   "source": [
    "### bought 20 hrs ago and sold 12 hrs ago, from now"
   ]
  },
  {
   "cell_type": "code",
   "execution_count": 33,
   "id": "1ff9daea",
   "metadata": {},
   "outputs": [
    {
     "name": "stdout",
     "output_type": "stream",
     "text": [
      "XPARTY | Buy Price: 0.000331 | Sell Price: 0.000588 | Value after sell: $443.98\n",
      "PVE | Buy Price: 0.000005 | Sell Price: 0.002677 | Value after sell: $140460.48\n",
      "TWSC | Buy Price: 0.000137 | Sell Price: 0.000474 | Value after sell: $866.26\n",
      "DOGE | Buy Price: 0.000152 | Sell Price: 0.000343 | Value after sell: $562.52\n",
      "\n",
      " ----- Bought ~20 hours ago and sold ~12 hours ago -----\n",
      "\n",
      "Total portfolio value after selling (held for just 8 hrs): $142333.25\n",
      "Total return (held for just 8 hrs): 14133.33%\n"
     ]
    }
   ],
   "source": [
    "from datetime import timedelta\n",
    "\n",
    "# Assuming:\n",
    "# dfs = {token_name: df}  # your token dataframes keyed by token\n",
    "# Each df has datetime index and 'close' price column\n",
    "\n",
    "latest_time = max(df.index.max() for df in dfs.values())  # latest timestamp across tokens\n",
    "\n",
    "buy_time = latest_time - timedelta(hours=20)\n",
    "sell_time = buy_time + timedelta(hours=12)\n",
    "\n",
    "total_investment = 1000\n",
    "num_tokens = len(dfs)\n",
    "investment_per_token = total_investment / num_tokens\n",
    "\n",
    "portfolio_value = 0\n",
    "\n",
    "for token, df in dfs.items():\n",
    "    # Ensure index is sorted datetime\n",
    "    df = df.sort_index()\n",
    "\n",
    "    # Find closest buy price to buy_time\n",
    "    buy_idx = df.index.get_indexer([buy_time], method='nearest')[0]\n",
    "    buy_price = df.iloc[buy_idx]['close']\n",
    "\n",
    "    # Find closest sell price to sell_time\n",
    "    sell_idx = df.index.get_indexer([sell_time], method='nearest')[0]\n",
    "    sell_price = df.iloc[sell_idx]['close']\n",
    "\n",
    "    # Calculate amount bought with investment per token\n",
    "    qty = investment_per_token / buy_price\n",
    "\n",
    "    # Current value after selling\n",
    "    token_value = qty * sell_price\n",
    "\n",
    "    # Add to total portfolio value\n",
    "    portfolio_value += token_value\n",
    "\n",
    "    print(f\"{token} | Buy Price: {buy_price:.6f} | Sell Price: {sell_price:.6f} | Value after sell: ${token_value:.2f}\")\n",
    "\n",
    "total_return = (portfolio_value / total_investment - 1) * 100\n",
    "print(f\"\\n ----- Bought ~20 hours ago and sold ~12 hours ago -----\")\n",
    "print(f\"\\nTotal portfolio value after selling (held for just 8 hrs): ${portfolio_value:.2f}\")\n",
    "print(f\"Total return (held for just 8 hrs): {total_return:.2f}%\")\n"
   ]
  },
  {
   "cell_type": "code",
   "execution_count": null,
   "id": "28a99261",
   "metadata": {},
   "outputs": [],
   "source": []
  }
 ],
 "metadata": {
  "kernelspec": {
   "display_name": "base",
   "language": "python",
   "name": "python3"
  },
  "language_info": {
   "codemirror_mode": {
    "name": "ipython",
    "version": 3
   },
   "file_extension": ".py",
   "mimetype": "text/x-python",
   "name": "python",
   "nbconvert_exporter": "python",
   "pygments_lexer": "ipython3",
   "version": "3.12.4"
  }
 },
 "nbformat": 4,
 "nbformat_minor": 5
}
